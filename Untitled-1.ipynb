{
 "cells": [
  {
   "cell_type": "code",
   "execution_count": 1,
   "metadata": {},
   "outputs": [],
   "source": [
    "from Bio import Entrez\n",
    "Entrez.email = \"u7457260@anu.edu.au\"  # 设置电子邮件\n",
    "for i in (\"Rhodococcus\", \"Vibrio\", \"Delftia\"):\n",
    "    handle = Entrez.esearch(db=\"nucleotide\", term= i + \"[Organism] AND 16S rRNA[Gene]\", retmax=100000)  # 检索符合条件的记录\n",
    "    record = Entrez.read(handle)\n",
    "    id_list = record[\"IdList\"]  # 获取所有记录的ID\n",
    "    handle.close()\n",
    "    handle = Entrez.efetch(db=\"nucleotide\", id=id_list, rettype=\"fasta\", retmode=\"text\")  # 下载所有记录的序列\n",
    "    sequences = handle.read()\n",
    "    handle.close()\n",
    "    with open(\"C:\\\\Users\\\\DuYih\\\\Desktop\\\\python_program\\\\\" + i +\"_16S_sequences.fasta\", \"w\") as f:\n",
    "        f.write(sequences)\n"
   ]
  }
 ],
 "metadata": {
  "kernelspec": {
   "display_name": "Python 3",
   "language": "python",
   "name": "python3"
  },
  "language_info": {
   "codemirror_mode": {
    "name": "ipython",
    "version": 3
   },
   "file_extension": ".py",
   "mimetype": "text/x-python",
   "name": "python",
   "nbconvert_exporter": "python",
   "pygments_lexer": "ipython3",
   "version": "3.11.0"
  },
  "orig_nbformat": 4,
  "vscode": {
   "interpreter": {
    "hash": "fcae64882b7bf49cc4c0ad56232ccac5e5b630dac6b2cb18a95540958054d922"
   }
  }
 },
 "nbformat": 4,
 "nbformat_minor": 2
}
